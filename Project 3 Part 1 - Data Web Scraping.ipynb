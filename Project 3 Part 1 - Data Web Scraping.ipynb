{
 "cells": [
  {
   "cell_type": "markdown",
   "metadata": {},
   "source": [
    "# Project 3\n",
    "\n",
    "Done by: Goh Chun Shan, DSIF 7"
   ]
  },
  {
   "cell_type": "markdown",
   "metadata": {},
   "source": [
    "## Overview of project notebooks:\n",
    "\n",
    "**1 - Project Overview and Data Acquisition through Webscraping** (current notebook)\n",
    "\n",
    "2 - Data Preprocessing and Exploratory Data Analysis\n",
    "\n",
    "3 - Model Tuning and Insights"
   ]
  },
  {
   "cell_type": "markdown",
   "metadata": {},
   "source": [
    "### Instructions:\n",
    "1. Using [Pushshift's](https://github.com/pushshift/api) API, you'll collect posts from two subreddits of your choosing.\n",
    "2. You'll then use NLP to train a classifier on which subreddit a given post came from. This is a binary classification problem."
   ]
  },
  {
   "cell_type": "markdown",
   "metadata": {},
   "source": [
    "### Project Description:\n",
    "\n",
    "Reddit is a social news, content, and discussions website. Posts are organised according to subject into user-created 'subreddits', which covers practically any topic imaginable. Members submit content (such as images, texts, and links) to subreddits, which can then be voted up ('upvote') or down ('downvote') by other members.\n",
    "\n",
    "The two subreddits that I have chosen for this project are: **Social Anxiety** & **OCD** (Obsessive Compulsive Disorders). These are two distinct mental health conditions. The goal of this project is to create a classification model that predicts which subreddit a random post belongs to with the highest accuracy.\n",
    "\n",
    "###### A) Social Anxiety\n",
    "Definition: Social anxiety disorder, also called social phobia, is a long-term and overwhelming fear of social situations. It's a common problem that usually starts during the teenage years. It can be very distressing and have a big impact on your life.\n",
    "\n",
    "###### B) Obessessive compulsive disorder\n",
    "Definition: a personality disorder characterized by excessive orderliness, perfectionism, attention to details, and a need for control in relating to others.\n",
    "\n",
    "##### Usefulness:\n",
    "Awareness of mental health disorders is increasing in recent years, especially with the popularity of the theme on social media. The younger generation is more comfortable with using social media to post about their daily lives, including struggles that they have, and in severe cases it could be a cry for help when they do not know where they can seek help from. Having a model that accurately sorts posts can help in online surveillance of mental health illnesses, by picking out common combinations of keywords in posts using CountVectorizer. These users can then be pointed to the right resources.\n",
    "\n",
    "Through this exercise, we can also raise awareness about mental health conditions for the general population and roll out campaigns to educate healthcare workers or the general public about words that differentiate mental illnesses, reduce the stigma against them, and correct any common misunderstandings about them. For e.g., one common use of the word 'OCD' is  people who like to keep their living spaces clean, which is not what the term actually means, which may drown out voices online of people seeking help as people are numbed to the over-misuse of the term.\n",
    "\n",
    "##### Method:\n",
    "In this project, I create a classification model that predicts which subreddit a random post belongs to with the highest accuracy. To identify a production model, a variety of preliminary models would be tested and evaluated based on their accuracy scores (i.e. how many correct predictions they are able to make).\n",
    "\n",
    "##### Possible Extension of project: \n",
    "If we have an indicator of severity of the cases, we can also train a model to pick out the most severe cases, and do surveillance on social media posts on potential people who are seeking help."
   ]
  },
  {
   "cell_type": "markdown",
   "metadata": {},
   "source": [
    "## Data Dictionary\n",
    "\n",
    "The combined dataset:\n",
    "\n",
    "|Feature|Type|Description|\n",
    "|---|---|---|---|\n",
    "|**subreddit**|*str*|which subreddit each post originates from| \n",
    "|**title**|*str*|title of each reddit post|\n",
    "|**selftext**|*str*|text of each reddit post|\n",
    "|**fulltext**|*str*|combination of title and text of each reddit post|\n",
    "|**id**|*str*|created user id|\n",
    "|**score**|*float*|number of upvotes a post has|\n",
    "|**upvote_ratio**|*float*|ratio of upvotes a post has, by the total number of votes the post received|\n",
    "\n",
    "Engineered one column that concatenates the title and selftext"
   ]
  },
  {
   "cell_type": "code",
   "execution_count": 2,
   "metadata": {},
   "outputs": [],
   "source": [
    "# Import libaries\n",
    "import requests\n",
    "from bs4 import BeautifulSoup\n",
    "import time\n",
    "import pandas as pd\n",
    "#from tqdm import tqdm"
   ]
  },
  {
   "cell_type": "markdown",
   "metadata": {},
   "source": [
    "### A) Starter code - Introduction to pushshift"
   ]
  },
  {
   "cell_type": "markdown",
   "metadata": {},
   "source": [
    "Follow-along code from the video \"Introduction to Pushshift\" to learn how to scrape data from subreddits."
   ]
  },
  {
   "cell_type": "code",
   "execution_count": 2,
   "metadata": {},
   "outputs": [],
   "source": [
    "url = 'https://api.pushshift.io/reddit/search/submission'"
   ]
  },
  {
   "cell_type": "code",
   "execution_count": 3,
   "metadata": {},
   "outputs": [],
   "source": [
    "params = {\n",
    "    'subreddit' : 'eating_disorders',\n",
    "    'size': 200\n",
    "}"
   ]
  },
  {
   "cell_type": "code",
   "execution_count": 4,
   "metadata": {},
   "outputs": [],
   "source": [
    "res = requests.get(url, params)"
   ]
  },
  {
   "cell_type": "code",
   "execution_count": 5,
   "metadata": {},
   "outputs": [
    {
     "data": {
      "text/plain": [
       "200"
      ]
     },
     "execution_count": 5,
     "metadata": {},
     "output_type": "execute_result"
    }
   ],
   "source": [
    "res.status_code"
   ]
  },
  {
   "cell_type": "code",
   "execution_count": 6,
   "metadata": {},
   "outputs": [],
   "source": [
    "data = res.json()\n",
    "posts = data['data']\n",
    "df = pd.DataFrame(posts)"
   ]
  },
  {
   "cell_type": "code",
   "execution_count": 7,
   "metadata": {},
   "outputs": [
    {
     "data": {
      "text/html": [
       "<div>\n",
       "<style scoped>\n",
       "    .dataframe tbody tr th:only-of-type {\n",
       "        vertical-align: middle;\n",
       "    }\n",
       "\n",
       "    .dataframe tbody tr th {\n",
       "        vertical-align: top;\n",
       "    }\n",
       "\n",
       "    .dataframe thead th {\n",
       "        text-align: right;\n",
       "    }\n",
       "</style>\n",
       "<table border=\"1\" class=\"dataframe\">\n",
       "  <thead>\n",
       "    <tr style=\"text-align: right;\">\n",
       "      <th></th>\n",
       "      <th>all_awardings</th>\n",
       "      <th>allow_live_comments</th>\n",
       "      <th>author</th>\n",
       "      <th>author_flair_css_class</th>\n",
       "      <th>author_flair_richtext</th>\n",
       "      <th>author_flair_template_id</th>\n",
       "      <th>author_flair_text</th>\n",
       "      <th>author_flair_text_color</th>\n",
       "      <th>author_flair_type</th>\n",
       "      <th>author_fullname</th>\n",
       "      <th>...</th>\n",
       "      <th>thumbnail_height</th>\n",
       "      <th>thumbnail_width</th>\n",
       "      <th>title</th>\n",
       "      <th>total_awards_received</th>\n",
       "      <th>treatment_tags</th>\n",
       "      <th>upvote_ratio</th>\n",
       "      <th>url</th>\n",
       "      <th>url_overridden_by_dest</th>\n",
       "      <th>whitelist_status</th>\n",
       "      <th>wls</th>\n",
       "    </tr>\n",
       "  </thead>\n",
       "  <tbody>\n",
       "    <tr>\n",
       "      <th>0</th>\n",
       "      <td>[]</td>\n",
       "      <td>False</td>\n",
       "      <td>Affectionate_Area830</td>\n",
       "      <td>None</td>\n",
       "      <td>[]</td>\n",
       "      <td>NaN</td>\n",
       "      <td>None</td>\n",
       "      <td>NaN</td>\n",
       "      <td>text</td>\n",
       "      <td>t2_7cxchjel</td>\n",
       "      <td>...</td>\n",
       "      <td>NaN</td>\n",
       "      <td>NaN</td>\n",
       "      <td>Losing weight is triggering</td>\n",
       "      <td>0</td>\n",
       "      <td>[]</td>\n",
       "      <td>1.0</td>\n",
       "      <td>https://www.reddit.com/r/eating_disorders/comm...</td>\n",
       "      <td>NaN</td>\n",
       "      <td>no_ads</td>\n",
       "      <td>0.0</td>\n",
       "    </tr>\n",
       "    <tr>\n",
       "      <th>1</th>\n",
       "      <td>[]</td>\n",
       "      <td>False</td>\n",
       "      <td>Latter_Nothing_2651</td>\n",
       "      <td>None</td>\n",
       "      <td>[]</td>\n",
       "      <td>NaN</td>\n",
       "      <td>None</td>\n",
       "      <td>NaN</td>\n",
       "      <td>text</td>\n",
       "      <td>t2_pkjhlq9m</td>\n",
       "      <td>...</td>\n",
       "      <td>NaN</td>\n",
       "      <td>NaN</td>\n",
       "      <td>rant.</td>\n",
       "      <td>0</td>\n",
       "      <td>[]</td>\n",
       "      <td>1.0</td>\n",
       "      <td>https://www.reddit.com/r/eating_disorders/comm...</td>\n",
       "      <td>NaN</td>\n",
       "      <td>no_ads</td>\n",
       "      <td>0.0</td>\n",
       "    </tr>\n",
       "    <tr>\n",
       "      <th>2</th>\n",
       "      <td>[]</td>\n",
       "      <td>False</td>\n",
       "      <td>Latter_Nothing_2651</td>\n",
       "      <td>None</td>\n",
       "      <td>[]</td>\n",
       "      <td>NaN</td>\n",
       "      <td>None</td>\n",
       "      <td>NaN</td>\n",
       "      <td>text</td>\n",
       "      <td>t2_pkjhlq9m</td>\n",
       "      <td>...</td>\n",
       "      <td>NaN</td>\n",
       "      <td>NaN</td>\n",
       "      <td>I hate how I look but theres nothing I can do ...</td>\n",
       "      <td>0</td>\n",
       "      <td>[]</td>\n",
       "      <td>1.0</td>\n",
       "      <td>https://www.reddit.com/r/eating_disorders/comm...</td>\n",
       "      <td>NaN</td>\n",
       "      <td>no_ads</td>\n",
       "      <td>0.0</td>\n",
       "    </tr>\n",
       "    <tr>\n",
       "      <th>3</th>\n",
       "      <td>[]</td>\n",
       "      <td>False</td>\n",
       "      <td>Jemmayeetyeet</td>\n",
       "      <td>None</td>\n",
       "      <td>[]</td>\n",
       "      <td>NaN</td>\n",
       "      <td>None</td>\n",
       "      <td>NaN</td>\n",
       "      <td>text</td>\n",
       "      <td>t2_2mtig4cx</td>\n",
       "      <td>...</td>\n",
       "      <td>NaN</td>\n",
       "      <td>NaN</td>\n",
       "      <td>slippery slope</td>\n",
       "      <td>0</td>\n",
       "      <td>[]</td>\n",
       "      <td>1.0</td>\n",
       "      <td>https://www.reddit.com/r/eating_disorders/comm...</td>\n",
       "      <td>NaN</td>\n",
       "      <td>no_ads</td>\n",
       "      <td>0.0</td>\n",
       "    </tr>\n",
       "    <tr>\n",
       "      <th>4</th>\n",
       "      <td>[]</td>\n",
       "      <td>False</td>\n",
       "      <td>ThemBones-</td>\n",
       "      <td>None</td>\n",
       "      <td>[]</td>\n",
       "      <td>NaN</td>\n",
       "      <td>None</td>\n",
       "      <td>NaN</td>\n",
       "      <td>text</td>\n",
       "      <td>t2_mw2t9tfi</td>\n",
       "      <td>...</td>\n",
       "      <td>140.0</td>\n",
       "      <td>140.0</td>\n",
       "      <td>Making so much progress. Food is fuel. FEED TH...</td>\n",
       "      <td>0</td>\n",
       "      <td>[]</td>\n",
       "      <td>1.0</td>\n",
       "      <td>https://www.reddit.com/gallery/z2n912</td>\n",
       "      <td>https://www.reddit.com/gallery/z2n912</td>\n",
       "      <td>no_ads</td>\n",
       "      <td>0.0</td>\n",
       "    </tr>\n",
       "  </tbody>\n",
       "</table>\n",
       "<p>5 rows × 75 columns</p>\n",
       "</div>"
      ],
      "text/plain": [
       "  all_awardings  allow_live_comments                author  \\\n",
       "0            []                False  Affectionate_Area830   \n",
       "1            []                False   Latter_Nothing_2651   \n",
       "2            []                False   Latter_Nothing_2651   \n",
       "3            []                False         Jemmayeetyeet   \n",
       "4            []                False            ThemBones-   \n",
       "\n",
       "  author_flair_css_class author_flair_richtext author_flair_template_id  \\\n",
       "0                   None                    []                      NaN   \n",
       "1                   None                    []                      NaN   \n",
       "2                   None                    []                      NaN   \n",
       "3                   None                    []                      NaN   \n",
       "4                   None                    []                      NaN   \n",
       "\n",
       "  author_flair_text author_flair_text_color author_flair_type author_fullname  \\\n",
       "0              None                     NaN              text     t2_7cxchjel   \n",
       "1              None                     NaN              text     t2_pkjhlq9m   \n",
       "2              None                     NaN              text     t2_pkjhlq9m   \n",
       "3              None                     NaN              text     t2_2mtig4cx   \n",
       "4              None                     NaN              text     t2_mw2t9tfi   \n",
       "\n",
       "  ...   thumbnail_height  thumbnail_width  \\\n",
       "0 ...                NaN              NaN   \n",
       "1 ...                NaN              NaN   \n",
       "2 ...                NaN              NaN   \n",
       "3 ...                NaN              NaN   \n",
       "4 ...              140.0            140.0   \n",
       "\n",
       "                                               title total_awards_received  \\\n",
       "0                        Losing weight is triggering                     0   \n",
       "1                                              rant.                     0   \n",
       "2  I hate how I look but theres nothing I can do ...                     0   \n",
       "3                                     slippery slope                     0   \n",
       "4  Making so much progress. Food is fuel. FEED TH...                     0   \n",
       "\n",
       "   treatment_tags  upvote_ratio  \\\n",
       "0              []           1.0   \n",
       "1              []           1.0   \n",
       "2              []           1.0   \n",
       "3              []           1.0   \n",
       "4              []           1.0   \n",
       "\n",
       "                                                 url  \\\n",
       "0  https://www.reddit.com/r/eating_disorders/comm...   \n",
       "1  https://www.reddit.com/r/eating_disorders/comm...   \n",
       "2  https://www.reddit.com/r/eating_disorders/comm...   \n",
       "3  https://www.reddit.com/r/eating_disorders/comm...   \n",
       "4              https://www.reddit.com/gallery/z2n912   \n",
       "\n",
       "                  url_overridden_by_dest whitelist_status  wls  \n",
       "0                                    NaN           no_ads  0.0  \n",
       "1                                    NaN           no_ads  0.0  \n",
       "2                                    NaN           no_ads  0.0  \n",
       "3                                    NaN           no_ads  0.0  \n",
       "4  https://www.reddit.com/gallery/z2n912           no_ads  0.0  \n",
       "\n",
       "[5 rows x 75 columns]"
      ]
     },
     "execution_count": 7,
     "metadata": {},
     "output_type": "execute_result"
    }
   ],
   "source": [
    "df.head()"
   ]
  },
  {
   "cell_type": "code",
   "execution_count": 8,
   "metadata": {},
   "outputs": [],
   "source": [
    "post_subset = df[['subreddit','selftext','title']]#,'link_flair_text']] "
   ]
  },
  {
   "cell_type": "code",
   "execution_count": 9,
   "metadata": {},
   "outputs": [
    {
     "data": {
      "text/html": [
       "<div>\n",
       "<style scoped>\n",
       "    .dataframe tbody tr th:only-of-type {\n",
       "        vertical-align: middle;\n",
       "    }\n",
       "\n",
       "    .dataframe tbody tr th {\n",
       "        vertical-align: top;\n",
       "    }\n",
       "\n",
       "    .dataframe thead th {\n",
       "        text-align: right;\n",
       "    }\n",
       "</style>\n",
       "<table border=\"1\" class=\"dataframe\">\n",
       "  <thead>\n",
       "    <tr style=\"text-align: right;\">\n",
       "      <th></th>\n",
       "      <th>subreddit</th>\n",
       "      <th>selftext</th>\n",
       "      <th>title</th>\n",
       "    </tr>\n",
       "  </thead>\n",
       "  <tbody>\n",
       "    <tr>\n",
       "      <th>0</th>\n",
       "      <td>eating_disorders</td>\n",
       "      <td>I'm not sure if this is the right place to pos...</td>\n",
       "      <td>Losing weight is triggering</td>\n",
       "    </tr>\n",
       "    <tr>\n",
       "      <th>1</th>\n",
       "      <td>eating_disorders</td>\n",
       "      <td>I'm not anorexic, but I diligently count calor...</td>\n",
       "      <td>rant.</td>\n",
       "    </tr>\n",
       "    <tr>\n",
       "      <th>2</th>\n",
       "      <td>eating_disorders</td>\n",
       "      <td>I know I shouldn't be losing more but what els...</td>\n",
       "      <td>I hate how I look but theres nothing I can do ...</td>\n",
       "    </tr>\n",
       "    <tr>\n",
       "      <th>3</th>\n",
       "      <td>eating_disorders</td>\n",
       "      <td>i have a restrictive ed and i get a lot of anx...</td>\n",
       "      <td>slippery slope</td>\n",
       "    </tr>\n",
       "    <tr>\n",
       "      <th>4</th>\n",
       "      <td>eating_disorders</td>\n",
       "      <td></td>\n",
       "      <td>Making so much progress. Food is fuel. FEED TH...</td>\n",
       "    </tr>\n",
       "  </tbody>\n",
       "</table>\n",
       "</div>"
      ],
      "text/plain": [
       "          subreddit                                           selftext  \\\n",
       "0  eating_disorders  I'm not sure if this is the right place to pos...   \n",
       "1  eating_disorders  I'm not anorexic, but I diligently count calor...   \n",
       "2  eating_disorders  I know I shouldn't be losing more but what els...   \n",
       "3  eating_disorders  i have a restrictive ed and i get a lot of anx...   \n",
       "4  eating_disorders                                                      \n",
       "\n",
       "                                               title  \n",
       "0                        Losing weight is triggering  \n",
       "1                                              rant.  \n",
       "2  I hate how I look but theres nothing I can do ...  \n",
       "3                                     slippery slope  \n",
       "4  Making so much progress. Food is fuel. FEED TH...  "
      ]
     },
     "execution_count": 9,
     "metadata": {},
     "output_type": "execute_result"
    }
   ],
   "source": [
    "post_subset.head()"
   ]
  },
  {
   "cell_type": "code",
   "execution_count": 10,
   "metadata": {},
   "outputs": [
    {
     "data": {
      "text/plain": [
       "1669229787"
      ]
     },
     "execution_count": 10,
     "metadata": {},
     "output_type": "execute_result"
    }
   ],
   "source": [
    "posts[0]['created_utc']"
   ]
  },
  {
   "cell_type": "code",
   "execution_count": 11,
   "metadata": {},
   "outputs": [
    {
     "data": {
      "text/plain": [
       "0      I'm not sure if this is the right place to pos...\n",
       "1      I'm not anorexic, but I diligently count calor...\n",
       "2      I know I shouldn't be losing more but what els...\n",
       "3      i have a restrictive ed and i get a lot of anx...\n",
       "4                                                       \n",
       "5      I'm 15F and I don't know anyone who understand...\n",
       "6      I'm a 20 year old female. I'm a mom to one lit...\n",
       "7      I’ve been eating terribly and I keep failing a...\n",
       "8      Some context, I’m a Bodybuilder that tracks ca...\n",
       "9      So i guess im just asking if its possible for ...\n",
       "10     So I've been struggling w an eating disorder b...\n",
       "11     Hello everyone \\nMy girlfriend has bulimia. I ...\n",
       "12                                             [removed]\n",
       "13     (New here) \\nI’ve had an Ed before and I found...\n",
       "14     I try to restrict as much as possible, and hid...\n",
       "15     I (23F) have an irrationally severe fear of ch...\n",
       "16                                                      \n",
       "17     I've recovered (physically) from a restrictive...\n",
       "18     I would like to eat what I want and how much I...\n",
       "19     As someone who has had an ED for 16 years I fe...\n",
       "20     I am a trainee clinical psychologist undertaki...\n",
       "21     So I've had a relapse and I'm starting to noti...\n",
       "22     Hello,\\nI'm 15 years old and I'm trying to rec...\n",
       "23     So yesterday I came back home from college for...\n",
       "24     &amp;#x200B;\\n\\nHi i am a 21-year-old female a...\n",
       "25     my entire life has become centred around food,...\n",
       "26     Growing up, I loved eating food it was one of ...\n",
       "27     I started only having a few snacks a day when ...\n",
       "28                                             [removed]\n",
       "29     Hi,\\n\\nI am conducting a research project for ...\n",
       "                             ...                        \n",
       "170    I can’t seem to get under 96lbs, and I’m 105 r...\n",
       "171                                                     \n",
       "172    No matter what food there is I will be bad no ...\n",
       "173    I fucking dropped one of my airpods in the toi...\n",
       "174                                                     \n",
       "175                                                     \n",
       "176    hi okay so i’m 18 f and im 5’1 and i think som...\n",
       "177    (FYI- I have anorexia with a binge purge subty...\n",
       "178    Disclaimer: Sorry for my bad english! \\nEver s...\n",
       "179    The more days go by the more I think I'm just ...\n",
       "180    \\nSome characteristics of disordered eating I ...\n",
       "181    So I just feel kinda alone in all the ED relat...\n",
       "182    Please point me to a better subreddit if this ...\n",
       "183                                                     \n",
       "184    I still hide it for the most part as people ge...\n",
       "185    I’m 20 years old and I’ve struggled with an ED...\n",
       "186    I keep working people around me when I’m not e...\n",
       "187                                                     \n",
       "188    I feel I've become addicted in a way to the fe...\n",
       "189    So I recently learned that an eating disorder ...\n",
       "190    exactly what it says in the title. i choose no...\n",
       "191    I feel like I cannot get out of the cycle of c...\n",
       "192    My issues around food started in august becaus...\n",
       "193                                                     \n",
       "194                                                     \n",
       "195    My girlfriend was always very thin since I've ...\n",
       "196    i have an average sw (49kg, 157.5cm) I've been...\n",
       "197    Growing up I never struggled w food or weight ...\n",
       "198    You’re a selfish asshole. Letting your eating ...\n",
       "199    I have bulimia. I recently had a hot chocolate...\n",
       "Name: selftext, Length: 200, dtype: object"
      ]
     },
     "execution_count": 11,
     "metadata": {},
     "output_type": "execute_result"
    }
   ],
   "source": [
    "post_subset['selftext']"
   ]
  },
  {
   "cell_type": "markdown",
   "metadata": {},
   "source": [
    "### B) Actual Data Extraction "
   ]
  },
  {
   "cell_type": "markdown",
   "metadata": {},
   "source": [
    "As both subreddits are extremely active and there are hundreds of posts daily, to extract data, we wish to get 200 rows of data from each subreddit from each day, from the last 10 months. The UTC timing for every 24h is 86,400, so we loop this over the last 300 days to get sufficient rows of data."
   ]
  },
  {
   "cell_type": "code",
   "execution_count": 4,
   "metadata": {},
   "outputs": [],
   "source": [
    "#Difference of each day is 86,400 in utc time\n",
    "#We wish to get 200 rows of data from each day for the past 50 days\n",
    "\n",
    "start_time = 1668729600 # UTC Timing: 0000 hours on 18 Nov 2022\n",
    "time_list = []\n",
    "\n",
    "for x in range(300):\n",
    "    time_list.append(start_time - x*86400) "
   ]
  },
  {
   "cell_type": "code",
   "execution_count": 5,
   "metadata": {},
   "outputs": [],
   "source": [
    "url = 'https://api.pushshift.io/reddit/search/submission'"
   ]
  },
  {
   "cell_type": "markdown",
   "metadata": {},
   "source": [
    "For Social Anxiety subreddit"
   ]
  },
  {
   "cell_type": "code",
   "execution_count": 29,
   "metadata": {},
   "outputs": [],
   "source": [
    "data_social_anxiety = []\n",
    "\n",
    "for time in time_list:\n",
    "    \n",
    "    params_sa = {\n",
    "    'subreddit' : 'socialanxiety',\n",
    "    'size': 200,\n",
    "    'before': time\n",
    "    }\n",
    "    \n",
    "    res_sa = requests.get(url, params_sa)\n",
    "    \n",
    "    data_sa = res_sa.json()\n",
    "    posts_sa = data_sa['data']\n",
    "    df_sa = pd.DataFrame(posts_sa)\n",
    "    temp_post_subset = df_sa[['subreddit','selftext','title','id','score','upvote_ratio']]\n",
    "    \n",
    "    data_social_anxiety.append(temp_post_subset)"
   ]
  },
  {
   "cell_type": "code",
   "execution_count": 30,
   "metadata": {},
   "outputs": [],
   "source": [
    "df_sa = pd.concat(data_social_anxiety)"
   ]
  },
  {
   "cell_type": "code",
   "execution_count": 53,
   "metadata": {},
   "outputs": [],
   "source": [
    "df_sa.to_csv('sa_raw_data.csv', index=False)"
   ]
  },
  {
   "cell_type": "code",
   "execution_count": 40,
   "metadata": {},
   "outputs": [
    {
     "data": {
      "text/html": [
       "<div>\n",
       "<style scoped>\n",
       "    .dataframe tbody tr th:only-of-type {\n",
       "        vertical-align: middle;\n",
       "    }\n",
       "\n",
       "    .dataframe tbody tr th {\n",
       "        vertical-align: top;\n",
       "    }\n",
       "\n",
       "    .dataframe thead th {\n",
       "        text-align: right;\n",
       "    }\n",
       "</style>\n",
       "<table border=\"1\" class=\"dataframe\">\n",
       "  <thead>\n",
       "    <tr style=\"text-align: right;\">\n",
       "      <th></th>\n",
       "      <th>subreddit</th>\n",
       "      <th>selftext</th>\n",
       "      <th>title</th>\n",
       "      <th>id</th>\n",
       "      <th>score</th>\n",
       "      <th>upvote_ratio</th>\n",
       "    </tr>\n",
       "  </thead>\n",
       "  <tbody>\n",
       "    <tr>\n",
       "      <th>0</th>\n",
       "      <td>socialanxiety</td>\n",
       "      <td>Pretty much the title. When I'm not doing amaz...</td>\n",
       "      <td>Does anyone else fixate on times of day for in...</td>\n",
       "      <td>yy5k9q</td>\n",
       "      <td>1</td>\n",
       "      <td>1.0</td>\n",
       "    </tr>\n",
       "    <tr>\n",
       "      <th>1</th>\n",
       "      <td>socialanxiety</td>\n",
       "      <td>I often feel like people in public from my com...</td>\n",
       "      <td>Is this schizophrenic?</td>\n",
       "      <td>yy5j8s</td>\n",
       "      <td>1</td>\n",
       "      <td>1.0</td>\n",
       "    </tr>\n",
       "    <tr>\n",
       "      <th>2</th>\n",
       "      <td>socialanxiety</td>\n",
       "      <td>Yeah, how was your day?</td>\n",
       "      <td>Hello, how was your day?</td>\n",
       "      <td>yy5cgr</td>\n",
       "      <td>1</td>\n",
       "      <td>1.0</td>\n",
       "    </tr>\n",
       "    <tr>\n",
       "      <th>3</th>\n",
       "      <td>socialanxiety</td>\n",
       "      <td>I just wasn’t happy when I was with her lately...</td>\n",
       "      <td>Broke up with my first gf an hour ago and I’m ...</td>\n",
       "      <td>yy58ea</td>\n",
       "      <td>1</td>\n",
       "      <td>1.0</td>\n",
       "    </tr>\n",
       "    <tr>\n",
       "      <th>4</th>\n",
       "      <td>socialanxiety</td>\n",
       "      <td>This classmate had me disoriented all day beca...</td>\n",
       "      <td>Classmate gifted me a bag of cookies today.</td>\n",
       "      <td>yy53jh</td>\n",
       "      <td>1</td>\n",
       "      <td>1.0</td>\n",
       "    </tr>\n",
       "  </tbody>\n",
       "</table>\n",
       "</div>"
      ],
      "text/plain": [
       "       subreddit                                           selftext  \\\n",
       "0  socialanxiety  Pretty much the title. When I'm not doing amaz...   \n",
       "1  socialanxiety  I often feel like people in public from my com...   \n",
       "2  socialanxiety                            Yeah, how was your day?   \n",
       "3  socialanxiety  I just wasn’t happy when I was with her lately...   \n",
       "4  socialanxiety  This classmate had me disoriented all day beca...   \n",
       "\n",
       "                                               title      id  score  \\\n",
       "0  Does anyone else fixate on times of day for in...  yy5k9q      1   \n",
       "1                             Is this schizophrenic?  yy5j8s      1   \n",
       "2                           Hello, how was your day?  yy5cgr      1   \n",
       "3  Broke up with my first gf an hour ago and I’m ...  yy58ea      1   \n",
       "4        Classmate gifted me a bag of cookies today.  yy53jh      1   \n",
       "\n",
       "   upvote_ratio  \n",
       "0           1.0  \n",
       "1           1.0  \n",
       "2           1.0  \n",
       "3           1.0  \n",
       "4           1.0  "
      ]
     },
     "execution_count": 40,
     "metadata": {},
     "output_type": "execute_result"
    }
   ],
   "source": [
    "df_sa.head()"
   ]
  },
  {
   "cell_type": "markdown",
   "metadata": {},
   "source": [
    "For OCD subreddit"
   ]
  },
  {
   "cell_type": "code",
   "execution_count": 42,
   "metadata": {},
   "outputs": [
    {
     "ename": "JSONDecodeError",
     "evalue": "Expecting value: line 1 column 1 (char 0)",
     "output_type": "error",
     "traceback": [
      "\u001b[1;31m---------------------------------------------------------------------------\u001b[0m",
      "\u001b[1;31mJSONDecodeError\u001b[0m                           Traceback (most recent call last)",
      "\u001b[1;32m<ipython-input-42-834fff0c24c9>\u001b[0m in \u001b[0;36m<module>\u001b[1;34m()\u001b[0m\n\u001b[0;32m     11\u001b[0m     \u001b[0mres_ocd\u001b[0m \u001b[1;33m=\u001b[0m \u001b[0mrequests\u001b[0m\u001b[1;33m.\u001b[0m\u001b[0mget\u001b[0m\u001b[1;33m(\u001b[0m\u001b[0murl\u001b[0m\u001b[1;33m,\u001b[0m \u001b[0mparams_ocd\u001b[0m\u001b[1;33m)\u001b[0m\u001b[1;33m\u001b[0m\u001b[0m\n\u001b[0;32m     12\u001b[0m \u001b[1;33m\u001b[0m\u001b[0m\n\u001b[1;32m---> 13\u001b[1;33m     \u001b[0mdata_ocd\u001b[0m \u001b[1;33m=\u001b[0m \u001b[0mres_ocd\u001b[0m\u001b[1;33m.\u001b[0m\u001b[0mjson\u001b[0m\u001b[1;33m(\u001b[0m\u001b[1;33m)\u001b[0m\u001b[1;33m\u001b[0m\u001b[0m\n\u001b[0m\u001b[0;32m     14\u001b[0m     \u001b[0mposts_ocd\u001b[0m \u001b[1;33m=\u001b[0m \u001b[0mdata_ocd\u001b[0m\u001b[1;33m[\u001b[0m\u001b[1;34m'data'\u001b[0m\u001b[1;33m]\u001b[0m\u001b[1;33m\u001b[0m\u001b[0m\n\u001b[0;32m     15\u001b[0m     \u001b[0mdf_ocd\u001b[0m \u001b[1;33m=\u001b[0m \u001b[0mpd\u001b[0m\u001b[1;33m.\u001b[0m\u001b[0mDataFrame\u001b[0m\u001b[1;33m(\u001b[0m\u001b[0mposts_ocd\u001b[0m\u001b[1;33m)\u001b[0m\u001b[1;33m\u001b[0m\u001b[0m\n",
      "\u001b[1;32m~\\Anaconda3\\lib\\site-packages\\requests\\models.py\u001b[0m in \u001b[0;36mjson\u001b[1;34m(self, **kwargs)\u001b[0m\n\u001b[0;32m    890\u001b[0m                     \u001b[1;31m# used.\u001b[0m\u001b[1;33m\u001b[0m\u001b[1;33m\u001b[0m\u001b[0m\n\u001b[0;32m    891\u001b[0m                     \u001b[1;32mpass\u001b[0m\u001b[1;33m\u001b[0m\u001b[0m\n\u001b[1;32m--> 892\u001b[1;33m         \u001b[1;32mreturn\u001b[0m \u001b[0mcomplexjson\u001b[0m\u001b[1;33m.\u001b[0m\u001b[0mloads\u001b[0m\u001b[1;33m(\u001b[0m\u001b[0mself\u001b[0m\u001b[1;33m.\u001b[0m\u001b[0mtext\u001b[0m\u001b[1;33m,\u001b[0m \u001b[1;33m**\u001b[0m\u001b[0mkwargs\u001b[0m\u001b[1;33m)\u001b[0m\u001b[1;33m\u001b[0m\u001b[0m\n\u001b[0m\u001b[0;32m    893\u001b[0m \u001b[1;33m\u001b[0m\u001b[0m\n\u001b[0;32m    894\u001b[0m     \u001b[1;33m@\u001b[0m\u001b[0mproperty\u001b[0m\u001b[1;33m\u001b[0m\u001b[0m\n",
      "\u001b[1;32m~\\Anaconda3\\lib\\json\\__init__.py\u001b[0m in \u001b[0;36mloads\u001b[1;34m(s, encoding, cls, object_hook, parse_float, parse_int, parse_constant, object_pairs_hook, **kw)\u001b[0m\n\u001b[0;32m    352\u001b[0m             \u001b[0mparse_int\u001b[0m \u001b[1;32mis\u001b[0m \u001b[1;32mNone\u001b[0m \u001b[1;32mand\u001b[0m \u001b[0mparse_float\u001b[0m \u001b[1;32mis\u001b[0m \u001b[1;32mNone\u001b[0m \u001b[1;32mand\u001b[0m\u001b[1;33m\u001b[0m\u001b[0m\n\u001b[0;32m    353\u001b[0m             parse_constant is None and object_pairs_hook is None and not kw):\n\u001b[1;32m--> 354\u001b[1;33m         \u001b[1;32mreturn\u001b[0m \u001b[0m_default_decoder\u001b[0m\u001b[1;33m.\u001b[0m\u001b[0mdecode\u001b[0m\u001b[1;33m(\u001b[0m\u001b[0ms\u001b[0m\u001b[1;33m)\u001b[0m\u001b[1;33m\u001b[0m\u001b[0m\n\u001b[0m\u001b[0;32m    355\u001b[0m     \u001b[1;32mif\u001b[0m \u001b[0mcls\u001b[0m \u001b[1;32mis\u001b[0m \u001b[1;32mNone\u001b[0m\u001b[1;33m:\u001b[0m\u001b[1;33m\u001b[0m\u001b[0m\n\u001b[0;32m    356\u001b[0m         \u001b[0mcls\u001b[0m \u001b[1;33m=\u001b[0m \u001b[0mJSONDecoder\u001b[0m\u001b[1;33m\u001b[0m\u001b[0m\n",
      "\u001b[1;32m~\\Anaconda3\\lib\\json\\decoder.py\u001b[0m in \u001b[0;36mdecode\u001b[1;34m(self, s, _w)\u001b[0m\n\u001b[0;32m    337\u001b[0m \u001b[1;33m\u001b[0m\u001b[0m\n\u001b[0;32m    338\u001b[0m         \"\"\"\n\u001b[1;32m--> 339\u001b[1;33m         \u001b[0mobj\u001b[0m\u001b[1;33m,\u001b[0m \u001b[0mend\u001b[0m \u001b[1;33m=\u001b[0m \u001b[0mself\u001b[0m\u001b[1;33m.\u001b[0m\u001b[0mraw_decode\u001b[0m\u001b[1;33m(\u001b[0m\u001b[0ms\u001b[0m\u001b[1;33m,\u001b[0m \u001b[0midx\u001b[0m\u001b[1;33m=\u001b[0m\u001b[0m_w\u001b[0m\u001b[1;33m(\u001b[0m\u001b[0ms\u001b[0m\u001b[1;33m,\u001b[0m \u001b[1;36m0\u001b[0m\u001b[1;33m)\u001b[0m\u001b[1;33m.\u001b[0m\u001b[0mend\u001b[0m\u001b[1;33m(\u001b[0m\u001b[1;33m)\u001b[0m\u001b[1;33m)\u001b[0m\u001b[1;33m\u001b[0m\u001b[0m\n\u001b[0m\u001b[0;32m    340\u001b[0m         \u001b[0mend\u001b[0m \u001b[1;33m=\u001b[0m \u001b[0m_w\u001b[0m\u001b[1;33m(\u001b[0m\u001b[0ms\u001b[0m\u001b[1;33m,\u001b[0m \u001b[0mend\u001b[0m\u001b[1;33m)\u001b[0m\u001b[1;33m.\u001b[0m\u001b[0mend\u001b[0m\u001b[1;33m(\u001b[0m\u001b[1;33m)\u001b[0m\u001b[1;33m\u001b[0m\u001b[0m\n\u001b[0;32m    341\u001b[0m         \u001b[1;32mif\u001b[0m \u001b[0mend\u001b[0m \u001b[1;33m!=\u001b[0m \u001b[0mlen\u001b[0m\u001b[1;33m(\u001b[0m\u001b[0ms\u001b[0m\u001b[1;33m)\u001b[0m\u001b[1;33m:\u001b[0m\u001b[1;33m\u001b[0m\u001b[0m\n",
      "\u001b[1;32m~\\Anaconda3\\lib\\json\\decoder.py\u001b[0m in \u001b[0;36mraw_decode\u001b[1;34m(self, s, idx)\u001b[0m\n\u001b[0;32m    355\u001b[0m             \u001b[0mobj\u001b[0m\u001b[1;33m,\u001b[0m \u001b[0mend\u001b[0m \u001b[1;33m=\u001b[0m \u001b[0mself\u001b[0m\u001b[1;33m.\u001b[0m\u001b[0mscan_once\u001b[0m\u001b[1;33m(\u001b[0m\u001b[0ms\u001b[0m\u001b[1;33m,\u001b[0m \u001b[0midx\u001b[0m\u001b[1;33m)\u001b[0m\u001b[1;33m\u001b[0m\u001b[0m\n\u001b[0;32m    356\u001b[0m         \u001b[1;32mexcept\u001b[0m \u001b[0mStopIteration\u001b[0m \u001b[1;32mas\u001b[0m \u001b[0merr\u001b[0m\u001b[1;33m:\u001b[0m\u001b[1;33m\u001b[0m\u001b[0m\n\u001b[1;32m--> 357\u001b[1;33m             \u001b[1;32mraise\u001b[0m \u001b[0mJSONDecodeError\u001b[0m\u001b[1;33m(\u001b[0m\u001b[1;34m\"Expecting value\"\u001b[0m\u001b[1;33m,\u001b[0m \u001b[0ms\u001b[0m\u001b[1;33m,\u001b[0m \u001b[0merr\u001b[0m\u001b[1;33m.\u001b[0m\u001b[0mvalue\u001b[0m\u001b[1;33m)\u001b[0m \u001b[1;32mfrom\u001b[0m \u001b[1;32mNone\u001b[0m\u001b[1;33m\u001b[0m\u001b[0m\n\u001b[0m\u001b[0;32m    358\u001b[0m         \u001b[1;32mreturn\u001b[0m \u001b[0mobj\u001b[0m\u001b[1;33m,\u001b[0m \u001b[0mend\u001b[0m\u001b[1;33m\u001b[0m\u001b[0m\n",
      "\u001b[1;31mJSONDecodeError\u001b[0m: Expecting value: line 1 column 1 (char 0)"
     ]
    }
   ],
   "source": [
    "data_obessivecompulsivedisorder = []\n",
    "\n",
    "for time in time_list:\n",
    "    \n",
    "    params_ocd = {\n",
    "    'subreddit' : 'OCD',\n",
    "    'size': 200,\n",
    "    'before': time\n",
    "    }\n",
    "    \n",
    "    res_ocd = requests.get(url, params_ocd)\n",
    "    \n",
    "    data_ocd = res_ocd.json()\n",
    "    posts_ocd = data_ocd['data']\n",
    "    df_ocd = pd.DataFrame(posts_ocd)\n",
    "    temp_post_subset = df_ocd[['subreddit','selftext','title','id','score','upvote_ratio']]\n",
    "    \n",
    "    data_obessivecompulsivedisorder.append(temp_post_subset)"
   ]
  },
  {
   "cell_type": "code",
   "execution_count": 44,
   "metadata": {},
   "outputs": [],
   "source": [
    "df_ocd = pd.concat(data_obessivecompulsivedisorder)"
   ]
  },
  {
   "cell_type": "code",
   "execution_count": 45,
   "metadata": {},
   "outputs": [],
   "source": [
    "df_ocd.to_csv('ocd_raw_data.csv', index=False)"
   ]
  },
  {
   "cell_type": "code",
   "execution_count": null,
   "metadata": {},
   "outputs": [],
   "source": [
    "df_combined = df_ocd.append(df_sa)"
   ]
  },
  {
   "cell_type": "code",
   "execution_count": null,
   "metadata": {},
   "outputs": [],
   "source": [
    "df_combined.shape"
   ]
  },
  {
   "cell_type": "markdown",
   "metadata": {},
   "source": [
    "### C) Simple Data cleaning"
   ]
  },
  {
   "cell_type": "markdown",
   "metadata": {},
   "source": [
    "Data cleaning steps:\n",
    "1. Remove duplicates, there should be minimum 5000 unique posts from each subreddit\n",
    "2. Combine the title and text into a single string\n",
    "3. Set a minimum word count of 30 for valid posts, remove those that are blank/ removed post/ picture only\n",
    "4. Check the remaining dataset whether there are sufficient posts from each subreddit"
   ]
  },
  {
   "cell_type": "markdown",
   "metadata": {},
   "source": [
    "#### Combine Title and Body into one column (fulltext)"
   ]
  },
  {
   "cell_type": "code",
   "execution_count": 17,
   "metadata": {},
   "outputs": [
    {
     "data": {
      "text/html": [
       "<div>\n",
       "<style scoped>\n",
       "    .dataframe tbody tr th:only-of-type {\n",
       "        vertical-align: middle;\n",
       "    }\n",
       "\n",
       "    .dataframe tbody tr th {\n",
       "        vertical-align: top;\n",
       "    }\n",
       "\n",
       "    .dataframe thead th {\n",
       "        text-align: right;\n",
       "    }\n",
       "</style>\n",
       "<table border=\"1\" class=\"dataframe\">\n",
       "  <thead>\n",
       "    <tr style=\"text-align: right;\">\n",
       "      <th></th>\n",
       "      <th>subreddit</th>\n",
       "      <th>selftext</th>\n",
       "      <th>title</th>\n",
       "      <th>fulltext</th>\n",
       "    </tr>\n",
       "  </thead>\n",
       "  <tbody>\n",
       "    <tr>\n",
       "      <th>0</th>\n",
       "      <td>OCD</td>\n",
       "      <td>I'll go first, I'm 28F. I have a lot of childh...</td>\n",
       "      <td>What are your most disturbing/ disgusting intr...</td>\n",
       "      <td>What are your most disturbing/ disgusting intr...</td>\n",
       "    </tr>\n",
       "    <tr>\n",
       "      <th>1</th>\n",
       "      <td>OCD</td>\n",
       "      <td>How do you all cope with OCD and live on?</td>\n",
       "      <td>life, coping with OCD</td>\n",
       "      <td>life, coping with OCD How do you all cope with...</td>\n",
       "    </tr>\n",
       "    <tr>\n",
       "      <th>2</th>\n",
       "      <td>OCD</td>\n",
       "      <td>I’ll try to make this as concise as possible, ...</td>\n",
       "      <td>Existential OCD, and fear of Psychosis OCD?</td>\n",
       "      <td>Existential OCD, and fear of Psychosis OCD? I’...</td>\n",
       "    </tr>\n",
       "    <tr>\n",
       "      <th>3</th>\n",
       "      <td>OCD</td>\n",
       "      <td>I suffer from many different kinds of OCD and ...</td>\n",
       "      <td>OCD is ruining my life and can potentially rui...</td>\n",
       "      <td>OCD is ruining my life and can potentially rui...</td>\n",
       "    </tr>\n",
       "    <tr>\n",
       "      <th>4</th>\n",
       "      <td>OCD</td>\n",
       "      <td>Last night I went to see Black Panther 2 with ...</td>\n",
       "      <td>Do the exposure, babe!</td>\n",
       "      <td>Do the exposure, babe! Last night I went to se...</td>\n",
       "    </tr>\n",
       "  </tbody>\n",
       "</table>\n",
       "</div>"
      ],
      "text/plain": [
       "  subreddit                                           selftext  \\\n",
       "0       OCD  I'll go first, I'm 28F. I have a lot of childh...   \n",
       "1       OCD          How do you all cope with OCD and live on?   \n",
       "2       OCD  I’ll try to make this as concise as possible, ...   \n",
       "3       OCD  I suffer from many different kinds of OCD and ...   \n",
       "4       OCD  Last night I went to see Black Panther 2 with ...   \n",
       "\n",
       "                                               title  \\\n",
       "0  What are your most disturbing/ disgusting intr...   \n",
       "1                              life, coping with OCD   \n",
       "2        Existential OCD, and fear of Psychosis OCD?   \n",
       "3  OCD is ruining my life and can potentially rui...   \n",
       "4                             Do the exposure, babe!   \n",
       "\n",
       "                                            fulltext  \n",
       "0  What are your most disturbing/ disgusting intr...  \n",
       "1  life, coping with OCD How do you all cope with...  \n",
       "2  Existential OCD, and fear of Psychosis OCD? I’...  \n",
       "3  OCD is ruining my life and can potentially rui...  \n",
       "4  Do the exposure, babe! Last night I went to se...  "
      ]
     },
     "execution_count": 17,
     "metadata": {},
     "output_type": "execute_result"
    }
   ],
   "source": [
    "df_sa['fulltext'] = df_sa['title'] + ' ' + df_sa['selftext']\n",
    "df_ocd['fulltext'] = df_ocd['title'] + ' ' + df_ocd['selftext']\n",
    "df_combined['fulltext'] = df_combined['title'] + ' ' + df_combined['selftext']\n",
    "\n",
    "df_combined.head()"
   ]
  },
  {
   "cell_type": "markdown",
   "metadata": {},
   "source": [
    "#### Remove duplicates"
   ]
  },
  {
   "cell_type": "code",
   "execution_count": 46,
   "metadata": {},
   "outputs": [
    {
     "name": "stdout",
     "output_type": "stream",
     "text": [
      "(14570, 6)\n",
      "(9623, 6)\n"
     ]
    }
   ],
   "source": [
    "print(df_ocd.shape)\n",
    "df_ocd_unique = df_ocd.drop_duplicates(subset=None, keep='first', inplace = False)\n",
    "print(df_ocd_unique.shape)"
   ]
  },
  {
   "cell_type": "code",
   "execution_count": 47,
   "metadata": {
    "scrolled": true
   },
   "outputs": [
    {
     "name": "stdout",
     "output_type": "stream",
     "text": [
      "(59923, 6)\n",
      "(26585, 6)\n"
     ]
    }
   ],
   "source": [
    "print(df_sa.shape)\n",
    "df_sa_unique = df_sa.drop_duplicates(subset=None, keep='first', inplace = False)\n",
    "print(df_sa_unique.shape)"
   ]
  },
  {
   "cell_type": "code",
   "execution_count": 49,
   "metadata": {},
   "outputs": [
    {
     "data": {
      "text/plain": [
       "(36208, 6)"
      ]
     },
     "execution_count": 49,
     "metadata": {},
     "output_type": "execute_result"
    }
   ],
   "source": [
    "df_combined_unique = df_sa_unique.append(df_ocd_unique)\n",
    "df_combined_unique.shape"
   ]
  },
  {
   "cell_type": "code",
   "execution_count": 50,
   "metadata": {},
   "outputs": [],
   "source": [
    "df_ocd_unique.to_csv('ocd_unique_data.csv', index=False)"
   ]
  },
  {
   "cell_type": "code",
   "execution_count": 51,
   "metadata": {},
   "outputs": [],
   "source": [
    "df_sa_unique.to_csv('sa_unique_data.csv', index=False)"
   ]
  },
  {
   "cell_type": "code",
   "execution_count": 52,
   "metadata": {},
   "outputs": [],
   "source": [
    "df_combined_unique.to_csv('combined_unique_data.csv', index=False)"
   ]
  },
  {
   "cell_type": "markdown",
   "metadata": {},
   "source": [
    "#### Filter for word count 30 and above only"
   ]
  },
  {
   "cell_type": "code",
   "execution_count": null,
   "metadata": {},
   "outputs": [],
   "source": [
    "df_combined['words'] = len(df_combined['text'].str.split()) #also omit special characters and punctuations from this\n",
    "df_combined_filtered = df_combined1[df_combined1['words'] >= 30]\n",
    "df_combined2 = df_combined_filtered.drop(columns = ['words'])"
   ]
  },
  {
   "cell_type": "code",
   "execution_count": 38,
   "metadata": {},
   "outputs": [],
   "source": [
    "#list_stopwords = stopwords.words['english']\n",
    "#need to import a library first"
   ]
  },
  {
   "cell_type": "code",
   "execution_count": null,
   "metadata": {},
   "outputs": [],
   "source": []
  },
  {
   "cell_type": "markdown",
   "metadata": {},
   "source": [
    "### D) Export cleaned data to csv"
   ]
  },
  {
   "cell_type": "code",
   "execution_count": 64,
   "metadata": {},
   "outputs": [],
   "source": [
    "df_cleaned.to_csv('clean_data.csv', index=False)"
   ]
  }
 ],
 "metadata": {
  "kernelspec": {
   "display_name": "Python 3",
   "language": "python",
   "name": "python3"
  },
  "language_info": {
   "codemirror_mode": {
    "name": "ipython",
    "version": 3
   },
   "file_extension": ".py",
   "mimetype": "text/x-python",
   "name": "python",
   "nbconvert_exporter": "python",
   "pygments_lexer": "ipython3",
   "version": "3.6.4"
  }
 },
 "nbformat": 4,
 "nbformat_minor": 2
}
